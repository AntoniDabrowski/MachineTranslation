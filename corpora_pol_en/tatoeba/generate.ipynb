{
 "cells": [
  {
   "cell_type": "code",
   "execution_count": 128,
   "metadata": {},
   "outputs": [],
   "source": [
    "import random\n",
    "import math\n",
    "random.seed(0)"
   ]
  },
  {
   "cell_type": "code",
   "execution_count": 129,
   "metadata": {},
   "outputs": [],
   "source": [
    "ratio_test = 50 / (50 + 1800 + 100)\n",
    "ratio_train = 1800 / (50 + 1800 + 100)\n",
    "ratio_val = 100 / (50 + 1800 + 100)"
   ]
  },
  {
   "cell_type": "code",
   "execution_count": 130,
   "metadata": {},
   "outputs": [],
   "source": [
    "def parse_sentences(filename):\n",
    "    map = {}\n",
    "    def parse_line(line):\n",
    "        split = line.split(\"\\t\")\n",
    "        if len(split) != 3:\n",
    "            print(\"Unparsed line:\\n\", line)\n",
    "        else:\n",
    "            [id, _, sentence] = split\n",
    "            map[int(id)] = sentence\n",
    "    print(\"Parsing \" + filename)\n",
    "    for line in open(filename).read().split(\"\\n\"):\n",
    "        parse_line(line)\n",
    "    print(\"Parsing of \" + filename + \" finished :D\")\n",
    "    return map"
   ]
  },
  {
   "cell_type": "code",
   "execution_count": 131,
   "metadata": {},
   "outputs": [
    {
     "name": "stdout",
     "output_type": "stream",
     "text": [
      "Parsing downloads/pol_sentences.tsv\n",
      "Unparsed line:\n",
      " \n",
      "Parsing of downloads/pol_sentences.tsv finished :D\n",
      "Parsing downloads/eng_sentences.tsv\n",
      "Unparsed line:\n",
      " \n",
      "Parsing of downloads/eng_sentences.tsv finished :D\n"
     ]
    }
   ],
   "source": [
    "polish_map = parse_sentences(\"downloads/pol_sentences.tsv\")\n",
    "english_map = parse_sentences(\"downloads/eng_sentences.tsv\")"
   ]
  },
  {
   "cell_type": "code",
   "execution_count": 132,
   "metadata": {},
   "outputs": [],
   "source": [
    "def parse_pairs(filename):\n",
    "    pairs = []\n",
    "    def parse_line(line):\n",
    "        split = line.split(\"\\t\")\n",
    "        if len(split) != 2:\n",
    "            print(\"Unparsed line:\\n\" + line)\n",
    "        else:\n",
    "            [first, second] = line.split(\"\\t\")\n",
    "            if first.isdigit() and second.isdigit():\n",
    "                pairs.append([int(first), int(second)])\n",
    "                \n",
    "    for line in open(filename).read().split(\"\\n\"):\n",
    "        parse_line(line)\n",
    "    return pairs"
   ]
  },
  {
   "cell_type": "code",
   "execution_count": 133,
   "metadata": {},
   "outputs": [],
   "source": [
    "def generate_pairs_of_sentences(pairs, first_map, second_map):\n",
    "    pairs_of_sentences = []\n",
    "    def add_pair(first_sentence, second_sentence):\n",
    "        pairs_of_sentences.append([first_sentence, second_sentence])\n",
    "    for [first, second] in pairs:\n",
    "        if first in first_map and second in second_map:\n",
    "            add_pair(first_map[first], second_map[second])\n",
    "        if second in first_map and first in second_map:\n",
    "            add_pair(first_map[second], second_map[first])\n",
    "    return pairs_of_sentences"
   ]
  },
  {
   "cell_type": "code",
   "execution_count": 134,
   "metadata": {},
   "outputs": [
    {
     "name": "stdout",
     "output_type": "stream",
     "text": [
      "Unparsed line:\n",
      "\n",
      "Unparsed line:\n",
      "\n"
     ]
    }
   ],
   "source": [
    "# maximal size of file on github is 100MB, thus we splitted [sentence_base.csv] into two files\n",
    "pairs = parse_pairs(\"downloads/sentences_base_1.csv\") + parse_pairs(\"downloads/sentences_base_2.csv\")"
   ]
  },
  {
   "cell_type": "code",
   "execution_count": 135,
   "metadata": {},
   "outputs": [],
   "source": [
    "pairs_of_sentences = generate_pairs_of_sentences(pairs, english_map, polish_map)\n",
    "random.shuffle(pairs_of_sentences)"
   ]
  },
  {
   "cell_type": "code",
   "execution_count": 136,
   "metadata": {},
   "outputs": [],
   "source": [
    "test_size = math.floor(ratio_test * len(pairs_of_sentences))\n",
    "val_size = math.floor(ratio_test * len(pairs_of_sentences))\n",
    "train_size = len(pairs_of_sentences) - test_size - val_size"
   ]
  },
  {
   "cell_type": "code",
   "execution_count": 137,
   "metadata": {},
   "outputs": [],
   "source": [
    "def write_pairs(pairs, suffix):\n",
    "    src = open(\"src-\" + suffix + \".txt\", \"w\")\n",
    "    tgt = open(\"tgt-\" + suffix + \".txt\", \"w\")\n",
    "    for [first, second] in pairs:\n",
    "        src.write(first + \"\\n\")\n",
    "        tgt.write(second + \"\\n\")\n",
    "    src.close()\n",
    "    tgt.close()"
   ]
  },
  {
   "cell_type": "code",
   "execution_count": 138,
   "metadata": {},
   "outputs": [],
   "source": [
    "write_pairs(pairs_of_sentences[0 : test_size], \"test\")\n",
    "write_pairs(pairs_of_sentences[test_size : test_size + val_size], \"val\")\n",
    "write_pairs(pairs_of_sentences[test_size + val_size : test_size + val_size + train_size], \"train\")"
   ]
  }
 ],
 "metadata": {
  "kernelspec": {
   "display_name": "Python 3.8.10 64-bit",
   "language": "python",
   "name": "python3"
  },
  "language_info": {
   "codemirror_mode": {
    "name": "ipython",
    "version": 3
   },
   "file_extension": ".py",
   "mimetype": "text/x-python",
   "name": "python",
   "nbconvert_exporter": "python",
   "pygments_lexer": "ipython3",
   "version": "3.8.10"
  },
  "orig_nbformat": 4,
  "vscode": {
   "interpreter": {
    "hash": "e7370f93d1d0cde622a1f8e1c04877d8463912d04d973331ad4851f04de6915a"
   }
  }
 },
 "nbformat": 4,
 "nbformat_minor": 2
}

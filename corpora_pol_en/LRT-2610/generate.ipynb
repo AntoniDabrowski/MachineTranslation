{
 "cells": [
  {
   "cell_type": "code",
   "execution_count": 8,
   "metadata": {},
   "outputs": [],
   "source": [
    "import random\n",
    "import math\n",
    "random.seed(0)"
   ]
  },
  {
   "cell_type": "code",
   "execution_count": 9,
   "metadata": {},
   "outputs": [],
   "source": [
    "ratio_test = 50 / (50 + 1800 + 100)\n",
    "ratio_train = 1800 / (50 + 1800 + 100)\n",
    "ratio_val = 100 / (50 + 1800 + 100)"
   ]
  },
  {
   "cell_type": "code",
   "execution_count": 10,
   "metadata": {},
   "outputs": [],
   "source": [
    "def read_file(filename):\n",
    "    return open(filename).read().split(\"\\n\")\n",
    "\n",
    "def read_pairs(first_file, second_file):\n",
    "    first_file = read_file(first_file)\n",
    "    second_file = read_file(second_file)\n",
    "    assert(len(first_file) == len(second_file))\n",
    "    pairs = []\n",
    "    for i in range(len(first_file)):\n",
    "        pairs.append([first_file[i], second_file[i]])\n",
    "    return pairs"
   ]
  },
  {
   "cell_type": "code",
   "execution_count": 11,
   "metadata": {},
   "outputs": [],
   "source": [
    "pairs_of_sentences = read_pairs(\"downloads/en_1.txt\", \"downloads/pl_1.txt\") + read_pairs(\"downloads/en_2.txt\", \"downloads/pl_2.txt\")\n",
    "random.shuffle(pairs_of_sentences)"
   ]
  },
  {
   "cell_type": "code",
   "execution_count": 12,
   "metadata": {},
   "outputs": [],
   "source": [
    "test_size = math.floor(ratio_test * len(pairs_of_sentences))\n",
    "val_size = math.floor(ratio_test * len(pairs_of_sentences))\n",
    "train_size = len(pairs_of_sentences) - test_size - val_size"
   ]
  },
  {
   "cell_type": "code",
   "execution_count": 13,
   "metadata": {},
   "outputs": [],
   "source": [
    "def write_pairs(pairs, suffix):\n",
    "    src = open(\"src-\" + suffix + \".txt\", \"w\")\n",
    "    tgt = open(\"tgt-\" + suffix + \".txt\", \"w\")\n",
    "    for [first, second] in pairs:\n",
    "        src.write(first + \"\\n\")\n",
    "        tgt.write(second + \"\\n\")\n",
    "    src.close()\n",
    "    tgt.close()"
   ]
  },
  {
   "cell_type": "code",
   "execution_count": 15,
   "metadata": {},
   "outputs": [],
   "source": [
    "write_pairs(pairs_of_sentences[0 : test_size], \"test\")\n",
    "write_pairs(pairs_of_sentences[test_size : test_size + val_size], \"val\")\n",
    "write_pairs(pairs_of_sentences[test_size + val_size : test_size + val_size + int(train_size / 2)], \"train1\")\n",
    "write_pairs(pairs_of_sentences[test_size + val_size + int(train_size / 2): test_size + val_size + train_size], \"train2\")"
   ]
  },
  {
   "cell_type": "code",
   "execution_count": null,
   "metadata": {},
   "outputs": [],
   "source": []
  }
 ],
 "metadata": {
  "kernelspec": {
   "display_name": "Python 3.8.10 64-bit",
   "language": "python",
   "name": "python3"
  },
  "language_info": {
   "codemirror_mode": {
    "name": "ipython",
    "version": 3
   },
   "file_extension": ".py",
   "mimetype": "text/x-python",
   "name": "python",
   "nbconvert_exporter": "python",
   "pygments_lexer": "ipython3",
   "version": "3.8.10"
  },
  "orig_nbformat": 4,
  "vscode": {
   "interpreter": {
    "hash": "916dbcbb3f70747c44a77c7bcd40155683ae19c65e1c03b4aa3499c5328201f1"
   }
  }
 },
 "nbformat": 4,
 "nbformat_minor": 2
}

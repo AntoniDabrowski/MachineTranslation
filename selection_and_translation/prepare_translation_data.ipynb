{
 "cells": [
  {
   "cell_type": "code",
   "execution_count": 1,
   "metadata": {},
   "outputs": [],
   "source": [
    "conversations = []"
   ]
  },
  {
   "cell_type": "markdown",
   "metadata": {},
   "source": [
    "# DailyDialog"
   ]
  },
  {
   "cell_type": "code",
   "execution_count": 2,
   "metadata": {},
   "outputs": [
    {
     "name": "stdout",
     "output_type": "stream",
     "text": [
      "Say , Jim , how about going for a few beers after dinner ? __eou__ You know that is tempting but is really not good for our fitness . __eou__ What do you mean ? It will help us to relax . __eou__ Do you really think so ? I don't . It will just make us fat and act silly . Remember last time ? __eou__ I guess you are right.But what shall we do ? I don't feel like sitting at home . __eou__ I suggest a walk over to the gym where we can play singsong and meet some of our friends . __eou__ That's a good idea . I hear Mary and Sally often go there to play pingpong.Perhaps we can make a foursome with them . __eou__ Sounds great to me ! If they are willing , we could ask them to go dancing with us.That is excellent exercise and fun , too . __eou__ Good.Let ' s go now . __eou__ All right . __eou__\n",
      "\n"
     ]
    }
   ],
   "source": [
    "with open('data/DailyDialog.txt', 'r') as file:\n",
    "    lines = file.readlines()\n",
    "\n",
    "for line in lines:\n",
    "    print(line)\n",
    "    break"
   ]
  },
  {
   "cell_type": "code",
   "execution_count": 3,
   "metadata": {},
   "outputs": [],
   "source": [
    "for line in lines:\n",
    "    conv = [elem.strip() for elem in line.strip().split('__eou__')][:-1]\n",
    "    conversations.append(conv)"
   ]
  },
  {
   "cell_type": "markdown",
   "metadata": {},
   "source": [
    "# EmpatheticDialogues"
   ]
  },
  {
   "cell_type": "code",
   "execution_count": 4,
   "metadata": {},
   "outputs": [],
   "source": [
    "with open('data/EmpatheticDialogues.csv', 'r') as file:\n",
    "    lines = file.readlines()\n",
    "\n",
    "\n",
    "temp = lines[1].split(',')\n",
    "first_sentence = temp[3]\n",
    "second_sentence = temp[5]\n",
    "mark = temp[0]\n",
    "\n",
    "conv = [f\"{first_sentence.replace('_comma_', ',')}. {second_sentence.replace('_comma_', ',')}\"]\n",
    "last_mark = mark\n",
    "\n",
    "for line in lines[2:]:\n",
    "    temp = line.split(',')\n",
    "    first_sentence = temp[3]\n",
    "    second_sentence = temp[5]\n",
    "    mark = temp[0]\n",
    "\n",
    "    if mark != last_mark:\n",
    "        conversations.append(conv)\n",
    "        conv = [f\"{first_sentence.replace('_comma_', ',')}. {second_sentence.replace('_comma_', ',')}\"]\n",
    "        last_mark = mark\n",
    "    else:\n",
    "        conv.append(second_sentence.replace('_comma_', ','))"
   ]
  },
  {
   "cell_type": "markdown",
   "metadata": {},
   "source": [
    "# Cornell Movie-Dialogs Corpus"
   ]
  },
  {
   "cell_type": "code",
   "execution_count": 5,
   "metadata": {},
   "outputs": [],
   "source": [
    "from tqdm import tqdm"
   ]
  },
  {
   "cell_type": "code",
   "execution_count": 6,
   "metadata": {},
   "outputs": [
    {
     "name": "stdout",
     "output_type": "stream",
     "text": [
      "Downloading movie-corpus to /home/guzik/.convokit/downloads/movie-corpus\n",
      "Downloading movie-corpus from http://zissou.infosci.cornell.edu/convokit/datasets/movie-corpus/movie-corpus.zip (40.9MB)... Done\n"
     ]
    }
   ],
   "source": [
    "from convokit import Corpus, download\n",
    "corpus = Corpus(filename=download(\"movie-corpus\"))"
   ]
  },
  {
   "cell_type": "code",
   "execution_count": 7,
   "metadata": {},
   "outputs": [
    {
     "name": "stderr",
     "output_type": "stream",
     "text": [
      "100%|███████████████████████████████████████████████████████████████████████████████████████████████████████████████████████████████████████████████████████████████████████████████████████████████████████████████████████████████████████████████████████████████████| 83097/83097 [03:15<00:00, 425.94it/s]\n"
     ]
    }
   ],
   "source": [
    "for conv in tqdm(list(corpus.iter_conversations())):\n",
    "    df = conv.get_utterances_dataframe()\n",
    "    sentences = list(reversed(list(df['text'])))\n",
    "    \n",
    "    conversations.append(sentences)"
   ]
  },
  {
   "cell_type": "markdown",
   "metadata": {},
   "source": [
    "## Create corpus"
   ]
  },
  {
   "cell_type": "code",
   "execution_count": 8,
   "metadata": {
    "scrolled": true
   },
   "outputs": [],
   "source": [
    "corpus = ''\n",
    "\n",
    "for conv in conversations:\n",
    "    corpus += ' '.join(conv) + ' '"
   ]
  },
  {
   "cell_type": "markdown",
   "metadata": {},
   "source": [
    "# Select sentences"
   ]
  },
  {
   "cell_type": "markdown",
   "metadata": {},
   "source": [
    "## Score sentences"
   ]
  },
  {
   "cell_type": "code",
   "execution_count": 9,
   "metadata": {},
   "outputs": [
    {
     "name": "stderr",
     "output_type": "stream",
     "text": [
      "[nltk_data] Downloading package punkt to /home/guzik/nltk_data...\n",
      "[nltk_data]   Package punkt is already up-to-date!\n"
     ]
    },
    {
     "data": {
      "text/plain": [
       "True"
      ]
     },
     "execution_count": 9,
     "metadata": {},
     "output_type": "execute_result"
    }
   ],
   "source": [
    "import nltk\n",
    "from nltk.collocations import BigramCollocationFinder, BigramAssocMeasures\n",
    "nltk.download('punkt')"
   ]
  },
  {
   "cell_type": "code",
   "execution_count": 10,
   "metadata": {},
   "outputs": [],
   "source": [
    "tokens = nltk.wordpunct_tokenize(corpus)\n",
    "\n",
    "finder = BigramCollocationFinder.from_words(tokens)\n",
    "bigram_measures = nltk.collocations.BigramAssocMeasures()"
   ]
  },
  {
   "cell_type": "code",
   "execution_count": 11,
   "metadata": {},
   "outputs": [
    {
     "name": "stderr",
     "output_type": "stream",
     "text": [
      "100%|████████████████████████████████████████████████████████████████████████████████████████████████████████████████████████████████████████████████████████████████████████████████████████████████████████████████████████████████████████████████████████████████| 113747/113747 [00:12<00:00, 9374.35it/s]\n"
     ]
    }
   ],
   "source": [
    "scored_conversations = []\n",
    "\n",
    "for conv in tqdm(conversations):\n",
    "    conv_score = 0\n",
    "    bigrams_no = 0\n",
    "    \n",
    "    for sentence in conv:\n",
    "        tokens = nltk.wordpunct_tokenize(sentence)\n",
    "        \n",
    "        for i, j in [(k, k+1) for k in range(len(tokens) - 1)]:\n",
    "            bigram_score = finder.score_ngram(bigram_measures.raw_freq, tokens[i], tokens[j])\n",
    "            conv_score += bigram_score\n",
    "            bigrams_no += 1\n",
    "    \n",
    "    if bigrams_no:\n",
    "        scored_conversations.append((conv, conv_score / bigrams_no))"
   ]
  },
  {
   "cell_type": "code",
   "execution_count": 12,
   "metadata": {},
   "outputs": [],
   "source": [
    "scored_conversations.sort(key=lambda x: x[1])"
   ]
  },
  {
   "cell_type": "markdown",
   "metadata": {},
   "source": [
    "# Create txt files\n",
    "\n",
    "Let's divide in 6 segments - 500 000 chars each (because of free tier APIs).\n",
    "One segment is going to have bottom conversations (higher score).\n",
    "\n",
    "All characters in corpus number: 29 389 453"
   ]
  },
  {
   "cell_type": "code",
   "execution_count": 13,
   "metadata": {},
   "outputs": [],
   "source": [
    "def count_segment_chars(conversations):\n",
    "    char_count = 0\n",
    "\n",
    "    for conv in conversations:\n",
    "        conv_char_count = 0\n",
    "\n",
    "        for sentence in conv:\n",
    "            conv_char_count += len(sentence)\n",
    "\n",
    "        char_count += conv_char_count\n",
    "    \n",
    "    return char_count"
   ]
  },
  {
   "cell_type": "code",
   "execution_count": 14,
   "metadata": {},
   "outputs": [],
   "source": [
    "segment_size = 500000"
   ]
  },
  {
   "cell_type": "code",
   "execution_count": 15,
   "metadata": {},
   "outputs": [],
   "source": [
    "def create_segment(scored_conversations):\n",
    "    char_count = 0\n",
    "    segment = []\n",
    "    \n",
    "    for i, (conv, _) in enumerate(scored_conversations):\n",
    "        conv_char_count = 0\n",
    "\n",
    "        for sentence in conv:\n",
    "            conv_char_count += len(sentence)\n",
    "\n",
    "        if char_count + conv_char_count <= segment_size:\n",
    "            char_count += conv_char_count\n",
    "            segment.append(conv)\n",
    "        else:\n",
    "            i -= 1\n",
    "            break\n",
    "            \n",
    "    return segment, i"
   ]
  },
  {
   "cell_type": "code",
   "execution_count": 16,
   "metadata": {},
   "outputs": [],
   "source": [
    "segments = []"
   ]
  },
  {
   "cell_type": "code",
   "execution_count": 17,
   "metadata": {},
   "outputs": [],
   "source": [
    "segment, _ = create_segment(reversed(scored_conversations))\n",
    "segments.append(segment)"
   ]
  },
  {
   "cell_type": "code",
   "execution_count": 18,
   "metadata": {},
   "outputs": [],
   "source": [
    "idx = 0\n",
    "for _ in range(5):\n",
    "    segment, shift = create_segment(scored_conversations[idx:])\n",
    "    segments.append(segment)\n",
    "    idx += shift"
   ]
  },
  {
   "cell_type": "code",
   "execution_count": 19,
   "metadata": {},
   "outputs": [
    {
     "name": "stdout",
     "output_type": "stream",
     "text": [
      "499882\n",
      "499539\n",
      "499881\n",
      "499850\n",
      "499928\n",
      "499757\n"
     ]
    }
   ],
   "source": [
    "for segment in segments:\n",
    "    print(count_segment_chars(segment))"
   ]
  },
  {
   "cell_type": "code",
   "execution_count": 20,
   "metadata": {},
   "outputs": [],
   "source": [
    "import json\n",
    "\n",
    "for i, segment in enumerate(segments):\n",
    "    with open(f'segment_{i}.json', 'w') as file:\n",
    "        json.dump(segment, file)"
   ]
  },
  {
   "cell_type": "code",
   "execution_count": null,
   "metadata": {},
   "outputs": [],
   "source": []
  }
 ],
 "metadata": {
  "kernelspec": {
   "display_name": "Python 3",
   "language": "python",
   "name": "python3"
  },
  "language_info": {
   "codemirror_mode": {
    "name": "ipython",
    "version": 3
   },
   "file_extension": ".py",
   "mimetype": "text/x-python",
   "name": "python",
   "nbconvert_exporter": "python",
   "pygments_lexer": "ipython3",
   "version": "3.10.6"
  }
 },
 "nbformat": 4,
 "nbformat_minor": 1
}
